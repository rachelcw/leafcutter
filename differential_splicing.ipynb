{
 "cells": [
  {
   "cell_type": "code",
   "execution_count": 1,
   "metadata": {},
   "outputs": [],
   "source": [
    "import seaborn as sns\n",
    "import pandas as pd\n",
    "import numpy as np\n",
    "import gzip\n",
    "import re\n",
    "import matplotlib.pyplot as plt\n",
    "\n",
    "\n",
    "P=0.05"
   ]
  },
  {
   "cell_type": "code",
   "execution_count": 3,
   "metadata": {},
   "outputs": [],
   "source": [
    "cll_data=pd.read_csv(\"/home/ls/rachelcw/projects/LEAFCUTTER/cll_data.20230116.csv\")\n",
    "\n",
    "groups_file_path='/home/ls/rachelcw/projects/LEAFCUTTER/DS/DS.shuffle/groups_file.shuffle.20230116/'"
   ]
  },
  {
   "cell_type": "code",
   "execution_count": 4,
   "metadata": {},
   "outputs": [],
   "source": [
    "# covariates table for DS \n",
    "covariate_table=pd.read_csv(\"/home/ls/rachelcw/projects/PEER/covariates_table_20230109.csv\", index_col=0)\n",
    "\n",
    "# convert binary data to labels #\n",
    "# # F - M\n",
    "covariate_table['F']=covariate_table['F'].replace([1,0],['F','M'])\n",
    "covariate_table.drop(columns='M', inplace=True)\n",
    "covariate_table.rename(columns={'F':'F/M'},inplace=True)\n",
    "# # S-spain vs B-broad\n",
    "covariate_table['seqcenter_Spain']=covariate_table['seqcenter_Spain'].replace([1,0],['S','B'])\n",
    "covariate_table.drop(columns='seqcenter_Broad', inplace=True)\n",
    "covariate_table.rename(columns={'seqcenter_Spain':'seqcenter'},inplace=True)\n",
    "## LCSET\n",
    "covariate_table['LCSET']=''\n",
    "for col in covariate_table.filter(regex=\"^LCSET_\").columns:\n",
    "    covariate_table[col]=covariate_table[col].replace([1,0],[col,''])\n",
    "    covariate_table['LCSET']= covariate_table['LCSET'] + covariate_table[col]\n",
    "\n",
    "covariate_table=covariate_table.loc[:,~covariate_table.columns.str.startswith('LCSET_')]\n",
    "covariate_table = covariate_table.mask(covariate_table=='')\n"
   ]
  },
  {
   "cell_type": "code",
   "execution_count": 5,
   "metadata": {},
   "outputs": [],
   "source": [
    "def groups_file_gene(gene,output,shuffle=False,ighv=None):\n",
    "    cll_data=pd.read_csv(\"/home/ls/rachelcw/projects/LEAFCUTTER/cll_data.20230116.csv\")\n",
    "    if ighv in ['M-CLL','U-CLL']:\n",
    "        print(ighv)\n",
    "        cll_data=cll_data[cll_data['ighv_mut']==ighv]\n",
    "    # Unmutated SF3B1\n",
    "    data_unmut=cll_data[cll_data['SF3B1_mut']=='Unmutated SF3B1']\n",
    "    # gene expression P low\n",
    "    n=round(len(data_unmut)*P)\n",
    "    print(n)\n",
    "    low=np.array(data_unmut.nsmallest(n, columns=gene, keep='all')['key'])\n",
    "    #gene expression P high\n",
    "    high=np.array(data_unmut.nlargest(n, columns=gene, keep='all')['key'])\n",
    "    samples=np.append(low,high)\n",
    "    analysis=covariate_table.filter(items=samples, axis='index')\n",
    "    # groups_file=open(output,'w')\n",
    "    # if shuffle:\n",
    "    #     labels=np.array(['low','high'])\n",
    "    #     lables_list = np.repeat(labels,[len(low),len(high)],axis=0)\n",
    "    #     labels_shuffle=np.random.permutation(lables_list)\n",
    "    #     for label,sample in zip(labels_shuffle, samples):\n",
    "    #         groups_file.writelines([sample,'\\t'+label+'\\t',analysis.loc[sample].to_string(header=False,index=False).replace('\\n','\\t'),'\\n'])\n",
    "    # else:\n",
    "    #     #  create a file that specifies which samples go in each group- low vs. high \n",
    "    #     for sample in low:\n",
    "    #         groups_file.writelines([sample, '\\tlow\\t',analysis.loc[sample].to_string(header=False,index=False).replace('\\n','\\t'),'\\n'])\n",
    "    #     for sample in high:\n",
    "    #         groups_file.writelines([sample, '\\thigh\\t',analysis.loc[sample].to_string(header=False,index=False).replace('\\n','\\t'),'\\n'])\n",
    "    # groups_file.close()\n",
    "    \n",
    "    \n",
    "    "
   ]
  },
  {
   "cell_type": "code",
   "execution_count": 7,
   "metadata": {},
   "outputs": [],
   "source": [
    "def groups_file_sf3b1(output,shuffle=False,ighv=None):\n",
    "    cll_data=pd.read_csv(\"/home/ls/rachelcw/projects/LEAFCUTTER/cll_data.20230116.csv\")\n",
    "    if ighv in ['M-CLL','U-CLL']:\n",
    "        print(ighv)\n",
    "        cll_data=cll_data[cll_data['ighv_mut']==ighv]\n",
    "    # Unmutated SF3B1\n",
    "    unmut_sample=np.array(cll_data[cll_data['SF3B1_mut']=='Unmutated SF3B1']['key'])\n",
    "    # mutated SF3B1\n",
    "    mut_sample=np.array(cll_data[cll_data['SF3B1_mut']=='Mutated SF3B1']['key'])\n",
    "\n",
    "    samples=np.append(unmut_sample,mut_sample)\n",
    "    analysis=covariate_table.filter(items=samples, axis='index')\n",
    "\n",
    "    #  create a file that specifies which samples go in each group- unmut vs. mut \n",
    "    groups_file=open(output,'w')\n",
    "    if shuffle:\n",
    "        labels=np.array(['\\tunmut\\t','\\tmut\\t'])\n",
    "        lables_list = np.repeat(labels,[len(unmut_sample),len(mut_sample)],axis=0)\n",
    "        labels_shuffle=np.random.permutation(lables_list)\n",
    "        for label,sample in zip(labels_shuffle, samples):\n",
    "            groups_file.writelines([sample,label,analysis.loc[sample].to_string(header=False,index=False).replace('\\n','\\t'),'\\n'])\n",
    "    else:\n",
    "        for sample in unmut_sample:\n",
    "            groups_file.writelines([sample, '\\tunmut\\t',analysis.loc[sample].to_string(header=False,index=False).replace('\\n','\\t'),'\\n'])\n",
    "        for sample in mut_sample:\n",
    "            groups_file.writelines([sample, '\\tmut\\t',analysis.loc[sample].to_string(header=False,index=False).replace('\\n','\\t'),'\\n'])\n",
    "    groups_file.close()"
   ]
  },
  {
   "cell_type": "code",
   "execution_count": 6,
   "metadata": {},
   "outputs": [],
   "source": [
    "cll_data=pd.read_csv(\"/home/ls/rachelcw/projects/LEAFCUTTER/cll_data.20230116.csv\")\n",
    "\n",
    "cll_data=cll_data[cll_data['ighv_mut']=='M-CLL']\n",
    "# Unmutated SF3B1\n",
    "unmut_sample=np.array(cll_data[cll_data['SF3B1_mut']=='Unmutated SF3B1']['key'])\n",
    "# mutated SF3B1\n",
    "mut_sample=np.array(cll_data[cll_data['SF3B1_mut']=='Mutated SF3B1']['key'])\n",
    "\n",
    "samples=np.append(unmut_sample,mut_sample)\n",
    "analysis=covariate_table.filter(items=samples, axis='index')\n"
   ]
  },
  {
   "cell_type": "code",
   "execution_count": 7,
   "metadata": {},
   "outputs": [
    {
     "name": "stdout",
     "output_type": "stream",
     "text": [
      "23\n"
     ]
    }
   ],
   "source": [
    "# # analysis #1 : ucll+mcll - u SF3B1 - low\\high SUGP1 # #\n",
    "output=groups_file_path+\"groups_file_s1.txt\"\n",
    "groups_file_gene('SUGP1',output,shuffle=True)\n"
   ]
  },
  {
   "cell_type": "code",
   "execution_count": 12,
   "metadata": {},
   "outputs": [],
   "source": [
    "# # analysis #2 : ucll+mcll - u SF3B1 - m SF3B1 # #\n",
    "output=groups_file_path+\"groups_file_s2.txt\"\n",
    "groups_file_sf3b1(output,shuffle=True)"
   ]
  },
  {
   "cell_type": "code",
   "execution_count": 13,
   "metadata": {},
   "outputs": [],
   "source": [
    "# # analysis #7 : ucll+mcll - u SF3B1 - low\\high DHX15 # #\n",
    "output=groups_file_path+\"groups_file_s7.txt\"\n",
    "groups_file_gene('DHX15',output,shuffle=True)"
   ]
  },
  {
   "cell_type": "code",
   "execution_count": 14,
   "metadata": {},
   "outputs": [
    {
     "name": "stdout",
     "output_type": "stream",
     "text": [
      "M-CLL\n"
     ]
    }
   ],
   "source": [
    "# # analysis #3 : mcll - u SF3B1 - low\\high SUGP1 # #\n",
    "output=groups_file_path+\"groups_file_s3.txt\"\n",
    "groups_file_gene('SUGP1',output,ighv='M-CLL',shuffle=True)\n"
   ]
  },
  {
   "cell_type": "code",
   "execution_count": 15,
   "metadata": {},
   "outputs": [
    {
     "name": "stdout",
     "output_type": "stream",
     "text": [
      "M-CLL\n"
     ]
    }
   ],
   "source": [
    "# # analysis #4 : mcll - u SF3B1 - m SF3B1 # #\n",
    "output=groups_file_path+\"groups_file_s4.txt\"\n",
    "groups_file_sf3b1(output,ighv='M-CLL')"
   ]
  },
  {
   "cell_type": "code",
   "execution_count": 16,
   "metadata": {},
   "outputs": [
    {
     "name": "stdout",
     "output_type": "stream",
     "text": [
      "M-CLL\n"
     ]
    }
   ],
   "source": [
    "# # analysis #8 : mcll - u SF3B1 - low\\high DHX15 # #\n",
    "output=groups_file_path+\"groups_file_s8.txt\"\n",
    "groups_file_gene('DHX15',output, shuffle=True,ighv='M-CLL')\n"
   ]
  },
  {
   "cell_type": "code",
   "execution_count": 17,
   "metadata": {},
   "outputs": [
    {
     "name": "stdout",
     "output_type": "stream",
     "text": [
      "U-CLL\n"
     ]
    }
   ],
   "source": [
    "# # analysis #5 : ucll - u SF3B1 - low\\high SUGP1 # #\n",
    "output=groups_file_path+\"groups_file_s5.txt\"\n",
    "groups_file_gene('SUGP1',output, shuffle=True,ighv='U-CLL')"
   ]
  },
  {
   "cell_type": "code",
   "execution_count": 18,
   "metadata": {},
   "outputs": [
    {
     "name": "stdout",
     "output_type": "stream",
     "text": [
      "U-CLL\n"
     ]
    }
   ],
   "source": [
    "# # analysis #6 : ucll - u SF3B1 - m SF3B1 # #\n",
    "output=groups_file_path+\"groups_file_s6.txt\"\n",
    "groups_file_sf3b1(output,ighv='U-CLL',shuffle=True)\n"
   ]
  },
  {
   "cell_type": "code",
   "execution_count": 19,
   "metadata": {},
   "outputs": [
    {
     "name": "stdout",
     "output_type": "stream",
     "text": [
      "U-CLL\n"
     ]
    }
   ],
   "source": [
    "# # analysis #9 : ucll - u SF3B1 - low\\high DHX15 # #\n",
    "output=groups_file_path+\"groups_file_s9.txt\"\n",
    "groups_file_gene('DHX15',output, shuffle=True,ighv='U-CLL')"
   ]
  },
  {
   "cell_type": "code",
   "execution_count": 3,
   "metadata": {},
   "outputs": [],
   "source": [
    "# EDEN PROJECT\n",
    "sample_file=pd.read_csv(\"/home/ls/rachelcw/projects/LEAFCUTTER/eden/20230728_U1_splicing_train samples.csv\")\n",
    "\n",
    "sample_list=sample_file[\"sample\"].tolist()\n",
    "\n",
    "# junc_file=open(\"/home/ls/rachelcw/projects/LEAFCUTTER/eden/juncfiles.txt\", \"w\") \n",
    "# with open(\"/home/ls/rachelcw/projects/LEAFCUTTER/juncfiles_20221211.txt\", \"r\") as file: \n",
    "# # Read the text file and filter paths\n",
    "#     counter=0\n",
    "#     for line in file:\n",
    "#         path = line.strip()  # Remove any leading/trailing whitespace or newline characters\n",
    "#         print(any(sample in path for sample in sample_list))\n",
    "#         if any(sample in path for sample in sample_list):\n",
    "#             counter+=1\n",
    "#             junc_file.write(path + \"\\n\")\n",
    "# junc_file.close()\n",
    "# print(counter)\n",
    "\n",
    "# file_path = '/home/ls/rachelcw/projects/LEAFCUTTER/eden/juncfiles.txt'\n",
    "\n",
    "# # Read the file and perform the replacement\n",
    "# with open(file_path, 'r') as file:\n",
    "#     content = file.read()\n",
    "#     updated_content = content.replace('private1', 'data01')\n",
    "\n",
    "# # Overwrite the file with the updated content\n",
    "# with open(file_path, 'w') as file:\n",
    "#     file.write(updated_content)\n",
    "\n",
    "# print(\"Replacement complete.\")\n",
    "\n",
    "# eden groups file\n",
    "\n",
    "# docker run -v /home/ls/rachelcw/projects/LEAFCUTTER/eden/:/data --rm garrettjenkinson/ubuntu18leafcutter:v0.2.9.1 Rscript /leafcutter/scripts/leafcutter_ds.R /data/leafcutter.20230730_perind_numers.counts.gz /data/groups_file.20230730.txt -o /data/eden/U1 -p 20 -e /data/leafcutter_annot__all_exons.txt.gz --seed 613\n",
    "with open('/home/ls/rachelcw/projects/LEAFCUTTER/eden/groups_file.20230730.txt', 'w') as f:\n",
    "    for index, row in sample_file.iterrows():\n",
    "        f.write(row['sample'] + '\\t' + row['target_ighv'] + '\\n')\n",
    "\n",
    "    "
   ]
  },
  {
   "cell_type": "code",
   "execution_count": 18,
   "metadata": {},
   "outputs": [],
   "source": [
    "#   #   RUN LEAFCUTTER DS   #   #\n",
    "# docker run -v /home/ls/rachelcw/projects/LEAFCUTTER/strand/:/data --rm garrettjenkinson/ubuntu18leafcutter:v0.2.9.1 Rscript /leafcutter/scripts/leafcutter_ds.R /data/strand.20230509_perind_numers.counts.gz /data/group_file.txt -o /data/strand -p 12\n",
    "# docker container run --name a4 --user $(id -u):$(id -g) -v /home/ls/rachelcw/projects/LEAFCUTTER/:/data --rm garrettjenkinson/ubuntu18leafcutter:v0.2.9.1 Rscript /leafcutter/scripts/leafcutter_ds.R /data/lc_20230512/lc_20230512_perind_numers.counts.gz /data/DS/DS.five_percent/groups_file.analysis.20230108/groups_file_a4.txt -o /data/DS/DS.five_percent/anaylsis.20230512/ds.a4.20230512 -p 6 -e data/lc_20230512/annontation_code.20221225_all_exons.txt.gz\n"
   ]
  },
  {
   "cell_type": "code",
   "execution_count": 2,
   "metadata": {},
   "outputs": [
    {
     "name": "stdout",
     "output_type": "stream",
     "text": [
      "/home/ls/rachelcw/projects/LEAFCUTTER/DS/DS.five_percent/analysis.20230512/fdr0.05/filtered.a1.20230512\n"
     ]
    }
   ],
   "source": [
    "#   #   DS result and filtering    #   #\n",
    "FDR = 0.05\n",
    "\n",
    "for i in ['1']:\n",
    "    input_path=f'/home/ls/rachelcw/projects/LEAFCUTTER/DS/DS.five_percent/analysis.20230512/ds.a{i}.20230512'\n",
    "    cluster_sig= pd.read_table(input_path+'_cluster_significance.txt',sep='\\t')\n",
    "    #filter out all clusters that they arnt significant <=0.05\n",
    "\n",
    "    cluster_sig=cluster_sig[cluster_sig['p.adjust'] <= FDR]\n",
    "    clusters=list(cluster_sig['cluster'].str.split(':',expand=True)[0]+'.*'+cluster_sig['cluster'].str.split(':',expand=True)[1])\n",
    "\n",
    "    effect_sizes=pd.read_table(input_path+'_effect_sizes.txt',sep='\\t')\n",
    "\n",
    "    #   #   #   #   #   #   #   #   #   #   #   #  \n",
    "\n",
    "    filtered_intron=[]\n",
    "    intron=list(effect_sizes['intron'])\n",
    "    for x in clusters:\n",
    "        for y in intron:\n",
    "            r = re.compile(x)\n",
    "            z=r.search(y)\n",
    "            if z != None:\n",
    "                filtered_intron.append(z.string)\n",
    "\n",
    "\n",
    "    #   #   #   #   #   #   #   #   #   #   #   #              \n",
    "\n",
    "    effect_sizes.set_index('intron', inplace=True)\n",
    "    effect_sizes=effect_sizes.filter(items=filtered_intron,axis='index')\n",
    "\n",
    "    #   #   #   #   #   #   #   #   #   #   #   #   \n",
    "    output_path=f'/home/ls/rachelcw/projects/LEAFCUTTER/DS/DS.five_percent/analysis.20230512/fdr0.05/filtered.a{i}.20230512'\n",
    "    print(output_path)\n",
    "\n",
    "    cluster_sig.to_csv(output_path+'_cluster_significance.txt', sep=' ',index=False)\n",
    "    effect_sizes.to_csv(output_path+'_effect_sizes.txt', sep=' ')\n",
    "\n"
   ]
  },
  {
   "cell_type": "code",
   "execution_count": 3,
   "metadata": {},
   "outputs": [],
   "source": [
    "percent_perind=pd.read_csv(\"/home/ls/rachelcw/projects/LEAFCUTTER/lc_20230108/lc_20230108_perind.percent.csv\")"
   ]
  },
  {
   "cell_type": "code",
   "execution_count": 4,
   "metadata": {},
   "outputs": [
    {
     "name": "stderr",
     "output_type": "stream",
     "text": [
      "/tmp/ipykernel_896487/1501759231.py:16: FutureWarning: ['sample'] did not aggregate successfully. If any error is raised this will raise in a future version of pandas. Drop these columns/ops to avoid this warning.\n",
      "  merge_groups_percent.groupby([\"junction\",\"sf3b1\"]).agg(['mean','std']).to_csv(f\"~/projects/LEAFCUTTER/mean_std_junction/analysis{i}_ms.csv\")\n",
      "/tmp/ipykernel_896487/1501759231.py:16: FutureWarning: ['sample'] did not aggregate successfully. If any error is raised this will raise in a future version of pandas. Drop these columns/ops to avoid this warning.\n",
      "  merge_groups_percent.groupby([\"junction\",\"sf3b1\"]).agg(['mean','std']).to_csv(f\"~/projects/LEAFCUTTER/mean_std_junction/analysis{i}_ms.csv\")\n",
      "/tmp/ipykernel_896487/1501759231.py:16: FutureWarning: ['sample'] did not aggregate successfully. If any error is raised this will raise in a future version of pandas. Drop these columns/ops to avoid this warning.\n",
      "  merge_groups_percent.groupby([\"junction\",\"sf3b1\"]).agg(['mean','std']).to_csv(f\"~/projects/LEAFCUTTER/mean_std_junction/analysis{i}_ms.csv\")\n"
     ]
    }
   ],
   "source": [
    "for i in [2,4,6]:\n",
    "    filtered_cll=pd.read_csv(f\"/home/ls/rachelcw/projects/LEAFCUTTER/DS/DS.five_percent/analysis.20230115/fdr0.05/filtered.a{i}.20230115_effect_sizes.txt\", sep=' ')\n",
    "    # junction from filter\n",
    "    junction_cll=filtered_cll[\"intron\"].str.replace(\"chr\",\"\")\n",
    "    # column of m sf3b1 | um sf3b1\n",
    "    # add percent reads of sample per junction\n",
    "    filtered_percent=percent_perind.loc[percent_perind[\"chrom\"].isin(junction_cll)]\n",
    "\n",
    "    melt_filtered_percent=pd.melt(filtered_percent, id_vars=filtered_percent.columns[0], value_vars=filtered_percent.columns[1:],var_name=\"sample\", value_name=\"reads_percent\")\n",
    "    melt_filtered_percent.rename(columns={\"chrom\":\"junction\"}, inplace=True)\n",
    "    # group by m-um\n",
    "    groups_file=pd.read_csv(f\"/home/ls/rachelcw/projects/LEAFCUTTER/DS/DS.five_percent/groups_file.analysis.20230108/groups_file_a{i}.txt\", sep=\"\\t\", usecols=[0,1], header=None, names=[\"sample\", \"sf3b1\"])\n",
    "\n",
    "    merge_groups_percent=melt_filtered_percent.merge(groups_file,how=\"inner\",on=\"sample\")\n",
    "    # mean and sd for each junction\n",
    "    merge_groups_percent.groupby([\"junction\",\"sf3b1\"]).agg(['mean','std']).to_csv(f\"~/projects/LEAFCUTTER/mean_std_junction/analysis{i}_ms.csv\")\n",
    "   "
   ]
  },
  {
   "cell_type": "code",
   "execution_count": 10,
   "metadata": {},
   "outputs": [],
   "source": [
    "# save pivot as csv file\n",
    "for i in [2]:\n",
    "    data=pd.read_csv(f\"~/projects/LEAFCUTTER/mean_std_junction/analysis{i}_ms.csv\", names=[\"junction\",\"sf3b1\",\"mean\",\"std\"])\n",
    "    data.drop(index=[0,1,2], inplace=True)\n",
    "    data.pivot(index=\"junction\",columns=\"sf3b1\", values=[\"mean\",\"std\"]).to_csv(f\"~/projects/LEAFCUTTER/mean_std_junction/analysis{i}_pivot.csv\")\n",
    "    data_pivot=pd.read_csv(f\"~/projects/LEAFCUTTER/mean_std_junction/analysis{i}_pivot.csv\", names=[\"junction\",\"mean_mut\",\"mean_unmut\",\"std_mut\",\"std_unmut\"])\n",
    "    data_pivot.drop(index=[0,1,2], inplace=True)\n",
    "    data_pivot[\"mean_mut\"]=[float(element) for element in data_pivot[\"mean_mut\"]]\n",
    "    data_pivot[\"mean_unmut\"]=[float(element) for element in data_pivot[\"mean_unmut\"]]\n",
    "    data_pivot[\"deltapsi\"]=data_pivot[\"mean_mut\"]-data_pivot[\"mean_unmut\"]\n",
    "    data_pivot.to_csv(f\"../LEAFCUTTER/mean_std_junction/deltapsi_analysis{i}.csv\", index=False)\n",
    "# scatter plot - deltapsi new vs lc"
   ]
  },
  {
   "cell_type": "code",
   "execution_count": 64,
   "metadata": {},
   "outputs": [],
   "source": [
    "mcll=pd.read_csv(\"/home/ls/rachelcw/projects/LEAFCUTTER/mean_std_junction/mcll.csv\")\n",
    "ucll=pd.read_csv(\"/home/ls/rachelcw/projects/LEAFCUTTER/mean_std_junction/ucll.csv\")\n",
    "mucll=pd.read_csv(\"/home/ls/rachelcw/projects/LEAFCUTTER/mean_std_junction/mucll.csv\")"
   ]
  },
  {
   "cell_type": "code",
   "execution_count": 67,
   "metadata": {},
   "outputs": [
    {
     "data": {
      "text/html": [
       "<div>\n",
       "<style scoped>\n",
       "    .dataframe tbody tr th:only-of-type {\n",
       "        vertical-align: middle;\n",
       "    }\n",
       "\n",
       "    .dataframe tbody tr th {\n",
       "        vertical-align: top;\n",
       "    }\n",
       "\n",
       "    .dataframe thead th {\n",
       "        text-align: right;\n",
       "    }\n",
       "</style>\n",
       "<table border=\"1\" class=\"dataframe\">\n",
       "  <thead>\n",
       "    <tr style=\"text-align: right;\">\n",
       "      <th></th>\n",
       "      <th>junction</th>\n",
       "      <th>deltapsi_mcll</th>\n",
       "      <th>deltapsi_ucll</th>\n",
       "    </tr>\n",
       "  </thead>\n",
       "  <tbody>\n",
       "    <tr>\n",
       "      <th>0</th>\n",
       "      <td>10:100174949:100175306:clu_57066_NA</td>\n",
       "      <td>0.009219</td>\n",
       "      <td>0.009219</td>\n",
       "    </tr>\n",
       "    <tr>\n",
       "      <th>1</th>\n",
       "      <td>10:100174954:100175306:clu_57066_NA</td>\n",
       "      <td>-0.028443</td>\n",
       "      <td>-0.028443</td>\n",
       "    </tr>\n",
       "    <tr>\n",
       "      <th>2</th>\n",
       "      <td>10:100174954:100176817:clu_57066_NA</td>\n",
       "      <td>-0.037177</td>\n",
       "      <td>-0.037177</td>\n",
       "    </tr>\n",
       "    <tr>\n",
       "      <th>3</th>\n",
       "      <td>10:100175190:100175306:clu_57066_NA</td>\n",
       "      <td>0.090615</td>\n",
       "      <td>0.090615</td>\n",
       "    </tr>\n",
       "    <tr>\n",
       "      <th>4</th>\n",
       "      <td>10:100175513:100176817:clu_57066_NA</td>\n",
       "      <td>0.054917</td>\n",
       "      <td>0.054917</td>\n",
       "    </tr>\n",
       "    <tr>\n",
       "      <th>...</th>\n",
       "      <td>...</td>\n",
       "      <td>...</td>\n",
       "      <td>...</td>\n",
       "    </tr>\n",
       "    <tr>\n",
       "      <th>4969</th>\n",
       "      <td>Y:15023880:15024639:clu_31737_NA</td>\n",
       "      <td>-0.063391</td>\n",
       "      <td>-0.063391</td>\n",
       "    </tr>\n",
       "    <tr>\n",
       "      <th>4970</th>\n",
       "      <td>Y:21871464:21872262:clu_31786_NA</td>\n",
       "      <td>0.009184</td>\n",
       "      <td>0.009184</td>\n",
       "    </tr>\n",
       "    <tr>\n",
       "      <th>4971</th>\n",
       "      <td>Y:21871695:21872101:clu_31786_NA</td>\n",
       "      <td>0.002485</td>\n",
       "      <td>0.002485</td>\n",
       "    </tr>\n",
       "    <tr>\n",
       "      <th>4972</th>\n",
       "      <td>Y:21871695:21872262:clu_31786_NA</td>\n",
       "      <td>0.176581</td>\n",
       "      <td>0.176581</td>\n",
       "    </tr>\n",
       "    <tr>\n",
       "      <th>4973</th>\n",
       "      <td>Y:21872146:21872262:clu_31786_NA</td>\n",
       "      <td>-0.084043</td>\n",
       "      <td>-0.084043</td>\n",
       "    </tr>\n",
       "  </tbody>\n",
       "</table>\n",
       "<p>4974 rows × 3 columns</p>\n",
       "</div>"
      ],
      "text/plain": [
       "                                 junction  deltapsi_mcll  deltapsi_ucll\n",
       "0     10:100174949:100175306:clu_57066_NA       0.009219       0.009219\n",
       "1     10:100174954:100175306:clu_57066_NA      -0.028443      -0.028443\n",
       "2     10:100174954:100176817:clu_57066_NA      -0.037177      -0.037177\n",
       "3     10:100175190:100175306:clu_57066_NA       0.090615       0.090615\n",
       "4     10:100175513:100176817:clu_57066_NA       0.054917       0.054917\n",
       "...                                   ...            ...            ...\n",
       "4969     Y:15023880:15024639:clu_31737_NA      -0.063391      -0.063391\n",
       "4970     Y:21871464:21872262:clu_31786_NA       0.009184       0.009184\n",
       "4971     Y:21871695:21872101:clu_31786_NA       0.002485       0.002485\n",
       "4972     Y:21871695:21872262:clu_31786_NA       0.176581       0.176581\n",
       "4973     Y:21872146:21872262:clu_31786_NA      -0.084043      -0.084043\n",
       "\n",
       "[4974 rows x 3 columns]"
      ]
     },
     "execution_count": 67,
     "metadata": {},
     "output_type": "execute_result"
    }
   ],
   "source": [
    "table=pd.merge(mcll,ucll,how=\"outer\",on=\"junction\", suffixes=[\"_mcll\",\"_ucll\"])\n",
    "table.filter(items=[\"junction\",\"deltapsi_mcll\",\"deltapsi_ucll\"])\n"
   ]
  },
  {
   "cell_type": "code",
   "execution_count": 2,
   "metadata": {},
   "outputs": [],
   "source": [
    "a1=pd.read_csv(\"/home/ls/rachelcw/projects/LEAFCUTTER/DS/DS.five_percent/analysis.20230115/fdr0.05/filtered.a1.20230115_cluster_significance.txt\", sep=' ')\n",
    "a2=pd.read_csv(\"/home/ls/rachelcw/projects/LEAFCUTTER/DS/DS.five_percent/analysis.20230115/fdr0.05/filtered.a2.20230115_cluster_significance.txt\", sep=' ')\n",
    "a3=pd.read_csv(\"/home/ls/rachelcw/projects/LEAFCUTTER/DS/DS.five_percent/analysis.20230115/fdr0.05/filtered.a3.20230115_cluster_significance.txt\", sep=' ')\n",
    "a4=pd.read_csv(\"/home/ls/rachelcw/projects/LEAFCUTTER/DS/DS.five_percent/analysis.20230115/fdr0.05/filtered.a4.20230115_cluster_significance.txt\", sep=' ')\n",
    "a6=pd.read_csv(\"/home/ls/rachelcw/projects/LEAFCUTTER/DS/DS.five_percent/analysis.20230115/fdr0.05/filtered.a6.20230115_cluster_significance.txt\", sep=' ')\n",
    "a7=pd.read_csv(\"/home/ls/rachelcw/projects/LEAFCUTTER/DS/DS.five_percent/analysis.20230115/fdr0.05/filtered.a7.20230115_cluster_significance.txt\", sep=' ')\n",
    "a8=pd.read_csv(\"/home/ls/rachelcw/projects/LEAFCUTTER/DS/DS.five_percent/analysis.20230115/fdr0.05/filtered.a8.20230115_cluster_significance.txt\", sep=' ')\n",
    "s1=pd.read_csv(\"/home/ls/rachelcw/projects/LEAFCUTTER/DS/DS.shuffle/shuffle.20230116/filtered.s1.20230116_cluster_significance.txt\", sep=' ')\n",
    "s2=pd.read_csv(\"/home/ls/rachelcw/projects/LEAFCUTTER/DS/DS.shuffle/shuffle.20230116/filtered.s2.20230116_cluster_significance.txt\", sep=' ')\n",
    "s2=pd.read_csv(\"/home/ls/rachelcw/projects/LEAFCUTTER/DS/DS.shuffle/shuffle.20230116/filtered.s2.20230116_cluster_significance.txt\", sep=' ')\n",
    "s3=pd.read_csv(\"/home/ls/rachelcw/projects/LEAFCUTTER/DS/DS.shuffle/shuffle.20230116/filtered.s3.20230116_cluster_significance.txt\", sep=' ')\n",
    "s4=pd.read_csv(\"/home/ls/rachelcw/projects/LEAFCUTTER/DS/DS.shuffle/shuffle.20230116/filtered.s4.20230116_cluster_significance.txt\", sep=' ')\n",
    "s6=pd.read_csv(\"/home/ls/rachelcw/projects/LEAFCUTTER/DS/DS.shuffle/shuffle.20230116/filtered.s6.20230116_cluster_significance.txt\", sep=' ')\n",
    "s7=pd.read_csv(\"/home/ls/rachelcw/projects/LEAFCUTTER/DS/DS.shuffle/shuffle.20230116/filtered.s7.20230116_cluster_significance.txt\", sep=' ')\n",
    "s8=pd.read_csv(\"/home/ls/rachelcw/projects/LEAFCUTTER/DS/DS.shuffle/shuffle.20230116/filtered.s8.20230116_cluster_significance.txt\", sep=' ')\n"
   ]
  },
  {
   "cell_type": "code",
   "execution_count": 7,
   "metadata": {},
   "outputs": [
    {
     "data": {
      "text/plain": [
       "[Text(0, 0, 'mucll-lh'),\n",
       " Text(1, 0, 'mucll-mu'),\n",
       " Text(2, 0, 'mucll-DHX15'),\n",
       " Text(3, 0, 'mcll-lh'),\n",
       " Text(4, 0, 'mcll-mu'),\n",
       " Text(5, 0, 'mcll-DHX15'),\n",
       " Text(6, 0, 'ucll-lh'),\n",
       " Text(7, 0, 'ucll-mu'),\n",
       " Text(8, 0, 'ucll-DHX15')]"
      ]
     },
     "execution_count": 7,
     "metadata": {},
     "output_type": "execute_result"
    },
    {
     "data": {
      "image/png": "[encoded data removed]",
      "text/plain": [
       "<Figure size 640x480 with 1 Axes>"
      ]
     },
     "metadata": {},
     "output_type": "display_data"
    }
   ],
   "source": [
    "FDR=0.05\n",
    "shuffle=pd.DataFrame({'analysis':['mucll-lh','mucll-mu','mucll-DHX15','mcll-lh','mcll-mu','mcll-DHX15','ucll-lh','ucll-mu','ucll-DHX15'],'p.adjust':[len(s1['p.adjust']),len(s2['p.adjust']),len(s7['p.adjust']),len(s3['p.adjust']),len(s4['p.adjust']),len(s8['p.adjust']),0,len(s6['p.adjust']),0],'source':'shuffle'})\n",
    "real=pd.DataFrame({'analysis':['mucll-lh','mucll-mu','mucll-DHX15','mcll-lh','mcll-mu','mcll-DHX15','ucll-lh','ucll-mu','ucll-DHX15'],'p.adjust':[len(a1['p.adjust']),len(a2['p.adjust']),len(a7['p.adjust']),len(a3['p.adjust']),len(a4['p.adjust']),len(a8['p.adjust']),0,len(a6['p.adjust']),0],'source':'real'})\n",
    "data_merge=pd.merge(left=real,right=shuffle,how='outer')\n",
    "ax=sns.barplot(data_merge,x='analysis',y='p.adjust',hue='source')\n",
    "ax.bar_label(ax.containers[0])\n",
    "ax.bar_label(ax.containers[1])\n",
    "ax.set(title=f'FDR={FDR}, HIGH\\LOW={P}')\n",
    "ax.set_xticklabels(ax.get_xticklabels(),fontsize=6.5)\n"
   ]
  },
  {
   "cell_type": "code",
   "execution_count": 3,
   "metadata": {},
   "outputs": [
    {
     "ename": "NameError",
     "evalue": "name 'analysis' is not defined",
     "output_type": "error",
     "traceback": [
      "\u001b[0;31m---------------------------------------------------------------------------\u001b[0m",
      "\u001b[0;31mNameError\u001b[0m                                 Traceback (most recent call last)",
      "\u001b[1;32m/home/ls/rachelcw/projects/leafcutter_git/differential_splicing.ipynb Cell 26\u001b[0m in \u001b[0;36m<cell line: 24>\u001b[0;34m()\u001b[0m\n\u001b[1;32m     <a href='vscode-notebook-cell://ssh-remote%2Bknis01/home/ls/rachelcw/projects/leafcutter_git/differential_splicing.ipynb#X34sdnNjb2RlLXJlbW90ZQ%3D%3D?line=18'>19</a>\u001b[0m ucll_mu_cluster\u001b[39m=\u001b[39m\u001b[39mlist\u001b[39m(ucll_mu\u001b[39m.\u001b[39mcluster)\n\u001b[1;32m     <a href='vscode-notebook-cell://ssh-remote%2Bknis01/home/ls/rachelcw/projects/leafcutter_git/differential_splicing.ipynb#X34sdnNjb2RlLXJlbW90ZQ%3D%3D?line=20'>21</a>\u001b[0m \u001b[39m# analysis=usp.from_contents({'CLL SUGP1 ':mucll_sugp1_cluster,'CLL m\\u SF3B1':mucll_mu_cluster,'CLL DHX':mucll_dhx15_cluster,'mcll_sugp1':mcll_sugp1_cluster,'mcll_mu':mcll_mu_cluster,'mcll_dhx15':mcll_dhx15_cluster,'ucll_mu':ucll_mu_cluster})\u001b[39;00m\n\u001b[1;32m     <a href='vscode-notebook-cell://ssh-remote%2Bknis01/home/ls/rachelcw/projects/leafcutter_git/differential_splicing.ipynb#X34sdnNjb2RlLXJlbW90ZQ%3D%3D?line=21'>22</a>\u001b[0m \u001b[39m# analysis=usp.from_contents({'mucll_sugp1':mucll_sugp1_cluster,'mucll_mu':mucll_mu_cluster,'mucll_dhx15':mucll_dhx15_cluster})\u001b[39;00m\n\u001b[0;32m---> <a href='vscode-notebook-cell://ssh-remote%2Bknis01/home/ls/rachelcw/projects/leafcutter_git/differential_splicing.ipynb#X34sdnNjb2RlLXJlbW90ZQ%3D%3D?line=23'>24</a>\u001b[0m upset\u001b[39m=\u001b[39musp\u001b[39m.\u001b[39mUpSet(analysis,subset_size\u001b[39m=\u001b[39m\u001b[39m'\u001b[39m\u001b[39mcount\u001b[39m\u001b[39m'\u001b[39m,show_counts\u001b[39m=\u001b[39m\u001b[39mTrue\u001b[39;00m)\n\u001b[1;32m     <a href='vscode-notebook-cell://ssh-remote%2Bknis01/home/ls/rachelcw/projects/leafcutter_git/differential_splicing.ipynb#X34sdnNjb2RlLXJlbW90ZQ%3D%3D?line=24'>25</a>\u001b[0m \u001b[39m# upset.style_subsets(present=[\"mucll_mu\",\"mucll_dhx15\"], facecolor=\"blue\",label=\"mucll\")\u001b[39;00m\n\u001b[1;32m     <a href='vscode-notebook-cell://ssh-remote%2Bknis01/home/ls/rachelcw/projects/leafcutter_git/differential_splicing.ipynb#X34sdnNjb2RlLXJlbW90ZQ%3D%3D?line=25'>26</a>\u001b[0m \u001b[39m# upset.style_subsets(present=[\"mucll_mu\",\"mucll_sugp1\"], facecolor=\"cyan\",label=\"mucll\")\u001b[39;00m\n\u001b[1;32m     <a href='vscode-notebook-cell://ssh-remote%2Bknis01/home/ls/rachelcw/projects/leafcutter_git/differential_splicing.ipynb#X34sdnNjb2RlLXJlbW90ZQ%3D%3D?line=26'>27</a>\u001b[0m \u001b[39m# upset.style_subsets(present=[\"mucll_sugp1\",\"mcll_sugp1\"], facecolor=\"red\",label=\"sugp1\")\u001b[39;00m\n\u001b[1;32m     <a href='vscode-notebook-cell://ssh-remote%2Bknis01/home/ls/rachelcw/projects/leafcutter_git/differential_splicing.ipynb#X34sdnNjb2RlLXJlbW90ZQ%3D%3D?line=27'>28</a>\u001b[0m upset\u001b[39m.\u001b[39mplot()\n",
      "\u001b[0;31mNameError\u001b[0m: name 'analysis' is not defined"
     ]
    }
   ],
   "source": [
    "# # UpSet plot # #\n",
    "import upsetplot as usp\n",
    "\n",
    "mucll_sugp1=pd.read_csv('/home/ls/rachelcw/projects/LEAFCUTTER/DS/DS.five_percent/analysis.20230115/fdr0.1/filtered0.1.a1.20230115_cluster_significance.txt', sep=' ')\n",
    "mucll_sugp1_cluster=list(mucll_sugp1.cluster)\n",
    "mucll_mu=pd.read_csv('/home/ls/rachelcw/projects/LEAFCUTTER/DS/DS.five_percent/analysis.20230115/fdr0.1/filtered0.1.a2.20230115_cluster_significance.txt', sep=' ')\n",
    "mucll_mu_cluster=list(mucll_mu.cluster)\n",
    "# mucll_dhx15=pd.read_csv('/home/ls/rachelcw/projects/LEAFCUTTER/DS/DS.five_percent/analysis.20230115/fdr0.1/filtered0.1.a7.20230115_cluster_significance.txt', sep=' ')\n",
    "# mucll_dhx15_cluster=list(mucll_dhx15.cluster)\n",
    "\n",
    "mcll_sugp1=pd.read_csv('/home/ls/rachelcw/projects/LEAFCUTTER/DS/DS.five_percent/analysis.20230115/fdr0.1/filtered0.1.a3.20230115_cluster_significance.txt', sep=' ')\n",
    "mcll_sugp1_cluster=list(mcll_sugp1.cluster)\n",
    "mcll_mu=pd.read_csv('/home/ls/rachelcw/projects/LEAFCUTTER/DS/DS.five_percent/analysis.20230115/fdr0.1/filtered0.1.a4.20230115_cluster_significance.txt', sep=' ')\n",
    "mcll_mu_cluster=list(mcll_mu.cluster)\n",
    "# mcll_dhx15=pd.read_csv('/home/ls/rachelcw/projects/LEAFCUTTER/DS/DS.five_percent/analysis.20230115/fdr0.1/filtered0.1.a8.20230115_cluster_significance.txt', sep=' ')\n",
    "# mcll_dhx15_cluster=list(mcll_dhx15.cluster)\n",
    "\n",
    "ucll_mu=pd.read_csv('/home/ls/rachelcw/projects/LEAFCUTTER/DS/DS.five_percent/analysis.20230115/fdr0.1/filtered0.1.a6.20230115_cluster_significance.txt', sep=' ')\n",
    "ucll_mu_cluster=list(ucll_mu.cluster)\n",
    "\n",
    "analysis=usp.from_contents({'CLL SUGP1 ':mucll_sugp1_cluster,'CLL m\\u SF3B1':mucll_mu_cluster,'CLL DHX':mucll_dhx15_cluster,'mcll_sugp1':mcll_sugp1_cluster,'mcll_mu':mcll_mu_cluster,'mcll_dhx15':mcll_dhx15_cluster,'ucll_mu':ucll_mu_cluster})\n",
    "# analysis=usp.from_contents({'mucll_sugp1':mucll_sugp1_cluster,'mucll_mu':mucll_mu_cluster,'mucll_dhx15':mucll_dhx15_cluster})\n",
    "\n",
    "upset=usp.UpSet(analysis,subset_size='count',show_counts=True)\n",
    "# upset.style_subsets(present=[\"mucll_mu\",\"mucll_dhx15\"], facecolor=\"blue\",label=\"mucll\")\n",
    "# upset.style_subsets(present=[\"mucll_mu\",\"mucll_sugp1\"], facecolor=\"cyan\",label=\"mucll\")\n",
    "# upset.style_subsets(present=[\"mucll_sugp1\",\"mcll_sugp1\"], facecolor=\"red\",label=\"sugp1\")\n",
    "upset.plot()\n",
    "plt.title(\"clusters intersection, fdr= 0.1\").set_fontsize(20)\n",
    "plt.show()\n"
   ]
  },
  {
   "cell_type": "code",
   "execution_count": 3,
   "metadata": {},
   "outputs": [
    {
     "data": {
      "image/png": "[encoded data removed]",
      "text/plain": [
       "<Figure size 1066.67x488.889 with 4 Axes>"
      ]
     },
     "metadata": {},
     "output_type": "display_data"
    }
   ],
   "source": [
    "# # UpSet plot # #\n",
    "import upsetplot as usp\n",
    "\n",
    "mucll_sugp1=pd.read_csv('/home/ls/rachelcw/projects/LEAFCUTTER/DS/DS.five_percent/analysis.20230115/fdr0.1/filtered0.1.a1.20230115_cluster_significance.txt', sep=' ')\n",
    "mucll_sugp1_cluster=list(mucll_sugp1.cluster)\n",
    "mucll_mu=pd.read_csv('/home/ls/rachelcw/projects/LEAFCUTTER/DS/DS.five_percent/analysis.20230115/fdr0.1/filtered0.1.a2.20230115_cluster_significance.txt', sep=' ')\n",
    "mucll_mu_cluster=list(mucll_mu.cluster)\n",
    "# mucll_dhx15=pd.read_csv('/home/ls/rachelcw/projects/LEAFCUTTER/DS/DS.five_percent/analysis.20230115/fdr0.1/filtered0.1.a7.20230115_cluster_significance.txt', sep=' ')\n",
    "# mucll_dhx15_cluster=list(mucll_dhx15.cluster)\n",
    "\n",
    "mcll_sugp1=pd.read_csv('/home/ls/rachelcw/projects/LEAFCUTTER/DS/DS.five_percent/analysis.20230115/fdr0.1/filtered0.1.a3.20230115_cluster_significance.txt', sep=' ')\n",
    "mcll_sugp1_cluster=list(mcll_sugp1.cluster)\n",
    "mcll_mu=pd.read_csv('/home/ls/rachelcw/projects/LEAFCUTTER/DS/DS.five_percent/analysis.20230115/fdr0.1/filtered0.1.a4.20230115_cluster_significance.txt', sep=' ')\n",
    "mcll_mu_cluster=list(mcll_mu.cluster)\n",
    "# mcll_dhx15=pd.read_csv('/home/ls/rachelcw/projects/LEAFCUTTER/DS/DS.five_percent/analysis.20230115/fdr0.1/filtered0.1.a8.20230115_cluster_significance.txt', sep=' ')\n",
    "# mcll_dhx15_cluster=list(mcll_dhx15.cluster)\n",
    "\n",
    "ucll_mu=pd.read_csv('/home/ls/rachelcw/projects/LEAFCUTTER/DS/DS.five_percent/analysis.20230115/fdr0.1/filtered0.1.a6.20230115_cluster_significance.txt', sep=' ')\n",
    "ucll_mu_cluster=list(ucll_mu.cluster)\n",
    "\n",
    "analysis=usp.from_contents({'CLL SUGP1 ':mucll_sugp1_cluster,'CLL m \\ um SF3B1':mucll_mu_cluster,'M-CLL SUGP1':mcll_sugp1_cluster,'M-CLL m \\ um SF3B1':mcll_mu_cluster,'U-CLL m \\ um SF3B1':ucll_mu_cluster})\n",
    "# analysis=usp.from_contents({'CLL SUGP1 ':mucll_sugp1_cluster,'CLL m\\u SF3B1':mucll_mu_cluster,'CLL DHX':mucll_dhx15_cluster,'mcll_sugp1':mcll_sugp1_cluster,'mcll_mu':mcll_mu_cluster,'mcll_dhx15':mcll_dhx15_cluster,'ucll_mu':ucll_mu_cluster})\n",
    "# analysis=usp.from_contents({'mucll_sugp1':mucll_sugp1_cluster,'mucll_mu':mucll_mu_cluster,'mucll_dhx15':mucll_dhx15_cluster})\n",
    "\n",
    "upset=usp.UpSet(analysis,subset_size='count',show_counts=True)\n",
    "# upset.style_subsets(present=[\"mucll_mu\",\"mucll_dhx15\"], facecolor=\"blue\",label=\"mucll\")\n",
    "# upset.style_subsets(present=[\"mucll_mu\",\"mucll_sugp1\"], facecolor=\"cyan\",label=\"mucll\")\n",
    "# upset.style_subsets(present=[\"mucll_sugp1\",\"mcll_sugp1\"], facecolor=\"red\",label=\"sugp1\")\n",
    "upset.plot()\n",
    "# plt.title(\"clusters intersection, fdr= 0.1\").set_fontsize(20)\n",
    "plt.show()\n"
   ]
  },
  {
   "cell_type": "code",
   "execution_count": 3,
   "metadata": {},
   "outputs": [],
   "source": [
    "#dictionary samples\n",
    "table_sample=pd.read_csv(\"/private1/private/data/cllmap/metadata/all_deidentifier_patAndSamp_20220308.tsv\",sep='\\t')\n",
    "# table_cllmap=pd.read_csv(\"/home/ls/rachelcw/projects/cllmap_pat_samp_id_map.extended.20221205.tsv\",sep='\\t')\n",
    "# rna_id=list(table_cllmap['rna_tumor_sample_id'].dropna())\n",
    "dict_sample=dict(zip(table_sample[table_sample.columns[0]],table_sample[table_sample.columns[1]]))"
   ]
  },
  {
   "cell_type": "code",
   "execution_count": 74,
   "metadata": {},
   "outputs": [],
   "source": [
    "# # edit cll data - add dhx15 ex, rename columns, replace values # #\n",
    "\n",
    "# master_table=pd.read_csv(\"/home/ls/rachelcw/projects/cllmap_rnaseq_tpms_603samps_deseqLog10_batchcorr.tsv\",sep=\"\\t\")\n",
    "# dhx15=master_table.loc[(master_table['Description']=='DHX15')]\n",
    "# dhx15=dhx15.drop(columns=[\"Name\"])\n",
    "# dhx15.set_index('Description',inplace=True)\n",
    "# dhx15_t=dhx15.T\n",
    "# cll_data=cll_data.merge(dhx15_t,right_index=True,left_on='key')\n",
    "# cll_data['ighv_mut'] = cll_data['ighv_mut'].replace(['unmutated', 'mutated'], ['U-CLL', 'M-CLL'])\n",
    "# cll_data=cll_data.rename(columns={'SUGP1_ex':'SUGP1'})\n",
    "\n",
    "# cll_data.to_csv('/home/ls/rachelcw/projects/LEAFCUTTER/cll_data.20230116.csv')"
   ]
  },
  {
   "cell_type": "code",
   "execution_count": 32,
   "metadata": {},
   "outputs": [],
   "source": [
    "# effect_sizes=pd.read_csv(\"/home/ls/rachelcw/projects/LEAFCUTTER/DS/DS.five_percent/ds.a2.20221226_effect_sizes.txt\",sep=\"\\t\")\n",
    "# cluster=pd.read_csv(\"/home/ls/rachelcw/projects/LEAFCUTTER/DS/DS.five_percent/ds.a2.20221226_cluster_significance.txt\",sep=\" \")\n",
    "# print(effect_sizes.shape)\n",
    "# print(cluster.shape)"
   ]
  },
  {
   "cell_type": "code",
   "execution_count": 3,
   "metadata": {},
   "outputs": [],
   "source": [
    "# sugp1_lh=pd.merge(a3,a5, how='inner', on='cluster')\n",
    "# #sugp1_lh=pd.merge(sugp1_lh,a5, how='inner', on='cluster')\n",
    "# sugp1_lh.set_index('cluster',inplace=True)\n",
    "# sf3b1_mu=pd.merge(a2,a4,how='inner',on='cluster')\n",
    "# sf3b1_mu=pd.merge(sf3b1_mu,a6,how='inner',on='cluster')\n",
    "# sf3b1_mu.set_index('cluster',inplace=True)\n",
    "# sf3b1_mu.to_csv(\"/home/ls/rachelcw/projects/LEAFCUTTER/DS/sf3b1_mu_cs.csv\")\n",
    "\n",
    "# effect_sizes['intron'].str.split(':',expand=True)\n",
    "# cluster=effect_sizes['intron'].str.split(':',expand=True)[3]\n",
    "# chr=effect_sizes['intron'].str.split(':',expand=True)[0]\n",
    "# effect_sizes['cluster']=cluster\n",
    "# effect_sizes['chr']=chr\n",
    "\n",
    "# es=[]\n",
    "# for value in effect_sizes['deltapsi']:\n",
    "#     if abs(value)<=0.3:\n",
    "#         es.append('small')\n",
    "#     elif abs(value)<=0.5:\n",
    "#         es.append('medium')\n",
    "#     else:\n",
    "#         es.append('large')\n",
    "\n",
    "# effect_sizes['es']=es"
   ]
  },
  {
   "cell_type": "code",
   "execution_count": null,
   "metadata": {},
   "outputs": [],
   "source": [
    "#/home/ls/rachelcw/projects/LEAFCUTTER/leafcutter/scripts/ds_plots.R -e /home/ls/rachelcw/projects/LEAFCUTTER/leafcutter/data/gencode19_exons.txt.gz /home/ls/rachelcw/projects/LEAFCUTTER/lc_20221211/lc_20221211_perind_numers.counts.gz /home/ls/rachelcw/projects/LEAFCUTTER/groups_file_peer.txt /home/ls/rachelcw/projects/LEAFCUTTER/DS/lc_ds_20221213_cluster_significance.txt -f 0.05"
   ]
  },
  {
   "cell_type": "code",
   "execution_count": null,
   "metadata": {},
   "outputs": [],
   "source": [
    "docker run -v /home/ls/rachelcw/projects/LEAFCUTTER/:/data --rm garrettjenkinson/ubuntu18leafcutter:v0.2.9.1 Rscript /leafcutter/scripts/leafcutter_ds.R /data/lc_20230108/lc_20230108_perind_numers.counts.gz /data/DS/DS.shuffle/groups_file.shuffle.20230116/groups_file_s7.txt -o /data/DS/DS.shuffle/shuffle.20230116/ds.s7.20230116 -p 9 --init random --seed 613"
   ]
  },
  {
   "cell_type": "code",
   "execution_count": 26,
   "metadata": {},
   "outputs": [],
   "source": [
    "#   #   #   SHUFFLE LINES    #   #   #\n",
    "import random\n",
    "for i in ['1','2','3','4','5','6','7','8','9']:\n",
    "    input_file='/home/ls/rachelcw/projects/LEAFCUTTER/DS/DS.five_percent/groups_file.analysis.20230108/groups_file_a'+i+'.txt'\n",
    "    with open(input_file,'r') as source:\n",
    "        data = [ (random.random(), line) for line in source ]\n",
    "    data.sort()\n",
    "    output_file='/home/ls/rachelcw/projects/LEAFCUTTER/DS/DS.five_percent/groups_file.shuffle.20230116/groups_file_s'+i+'.txt'\n",
    "    with open(output_file,'w') as target:\n",
    "        for _, line in data:\n",
    "            target.write( line )"
   ]
  }
 ],
 "metadata": {
  "kernelspec": {
   "display_name": "bio_sns",
   "language": "python",
   "name": "python3"
  },
  "language_info": {
   "codemirror_mode": {
    "name": "ipython",
    "version": 3
   },
   "file_extension": ".py",
   "mimetype": "text/x-python",
   "name": "python",
   "nbconvert_exporter": "python",
   "pygments_lexer": "ipython3",
   "version": "3.10.6"
  },
  "orig_nbformat": 4,
  "vscode": {
   "interpreter": {
    "hash": "09c864c3accc55c172f1ccd7cebbbda7e215cf87239813b034d31565a8f44a22"
   }
  }
 },
 "nbformat": 4,
 "nbformat_minor": 2
}
