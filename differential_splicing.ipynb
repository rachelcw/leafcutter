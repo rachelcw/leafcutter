{
 "cells": [
  {
   "cell_type": "code",
   "execution_count": 2,
   "metadata": {},
   "outputs": [],
   "source": [
    "import pandas as pd\n",
    "import numpy as np\n",
    "import gzip\n",
    "import re\n",
    "import seaborn as sns\n",
    "import matplotlib as plt\n",
    "\n",
    "P=0.05"
   ]
  },
  {
   "cell_type": "code",
   "execution_count": 3,
   "metadata": {},
   "outputs": [],
   "source": [
    "#dictionary samples\n",
    "table_sample=pd.read_csv(\"/private1/private/data/cllmap/metadata/all_deidentifier_patAndSamp_20220308.tsv\",sep='\\t')\n",
    "# table_cllmap=pd.read_csv(\"/home/ls/rachelcw/projects/cllmap_pat_samp_id_map.extended.20221205.tsv\",sep='\\t')\n",
    "# rna_id=list(table_cllmap['rna_tumor_sample_id'].dropna())\n",
    "dict_sample=dict(zip(table_sample[table_sample.columns[0]],table_sample[table_sample.columns[1]]))"
   ]
  },
  {
   "cell_type": "code",
   "execution_count": 33,
   "metadata": {},
   "outputs": [],
   "source": [
    "cll_data=pd.read_csv(\"/home/ls/rachelcw/projects/LEAFCUTTER/cll_data.csv\")\n",
    "#data.drop(columns=data.columns[0], inplace=True)\n",
    "\n",
    "groups_file_path='/home/ls/rachelcw/projects/LEAFCUTTER/DS/DS.five_percent/groups_file.analysis.20221226/'"
   ]
  },
  {
   "cell_type": "code",
   "execution_count": 34,
   "metadata": {},
   "outputs": [],
   "source": [
    "master_table=pd.read_csv(\"/home/ls/rachelcw/projects/cllmap_rnaseq_tpms_603samps_deseqLog10_batchcorr.tsv\",sep=\"\\t\")"
   ]
  },
  {
   "cell_type": "code",
   "execution_count": 35,
   "metadata": {},
   "outputs": [],
   "source": [
    "dhx15=master_table.loc[(master_table['Description']=='DHX15')]\n",
    "dhx15=dhx15.drop(columns=[\"Name\"])\n",
    "dhx15.set_index('Description',inplace=True)\n",
    "dhx15_t=dhx15.T"
   ]
  },
  {
   "cell_type": "code",
   "execution_count": 36,
   "metadata": {},
   "outputs": [],
   "source": [
    "cll_data=cll_data.merge(dhx15_t,right_index=True,left_on='key')"
   ]
  },
  {
   "cell_type": "code",
   "execution_count": 32,
   "metadata": {},
   "outputs": [],
   "source": [
    "# effect_sizes=pd.read_csv(\"/home/ls/rachelcw/projects/LEAFCUTTER/DS/DS.five_percent/ds.a2.20221226_effect_sizes.txt\",sep=\"\\t\")\n",
    "# cluster=pd.read_csv(\"/home/ls/rachelcw/projects/LEAFCUTTER/DS/DS.five_percent/ds.a2.20221226_cluster_significance.txt\",sep=\" \")\n",
    "# print(effect_sizes.shape)\n",
    "# print(cluster.shape)"
   ]
  },
  {
   "cell_type": "code",
   "execution_count": 37,
   "metadata": {},
   "outputs": [],
   "source": [
    "# covariates table for DS \n",
    "covariate_table=pd.read_csv(\"/home/ls/rachelcw/projects/PEER/covariates_table_20221221.csv\", index_col=0)\n",
    "\n",
    "# convert binary data to labels #\n",
    "# # F - M\n",
    "covariate_table['F']=covariate_table['F'].replace([1,0],['F','M'])\n",
    "covariate_table.drop(columns='M', inplace=True)\n",
    "covariate_table.rename(columns={'F':'F/M'},inplace=True)\n",
    "# # S-spain vs B-broad\n",
    "covariate_table['seqcenter_Spain']=covariate_table['seqcenter_Spain'].replace([1,0],['S','B'])\n",
    "covariate_table.drop(columns='seqcenter_Broad', inplace=True)\n",
    "covariate_table.rename(columns={'seqcenter_Spain':'seqcenter'},inplace=True)\n",
    "## LCSET\n",
    "covariate_table['LCSET']=''\n",
    "for col in covariate_table.filter(regex=\"^LCSET_\").columns:\n",
    "    covariate_table[col]=covariate_table[col].replace([1,0],[col,''])\n",
    "    covariate_table['LCSET']= covariate_table['LCSET'] + covariate_table[col]\n",
    "\n",
    "covariate_table=covariate_table.loc[:,~covariate_table.columns.str.startswith('LCSET_')]\n",
    "covariate_table = covariate_table.mask(covariate_table=='')\n"
   ]
  },
  {
   "cell_type": "code",
   "execution_count": 7,
   "metadata": {},
   "outputs": [],
   "source": [
    "# # analysis #1 : ucll+mcll - u SF3B1 - low\\high SUGP1 # #\n",
    "\n",
    "# Unmutated SF3B1\n",
    "data_unmut=cll_data[cll_data['SF3B1_mut']=='Unmutated SF3B1']\n",
    "#SUGP1 expression 10% low\n",
    "n=round(len(data_unmut)*P)\n",
    "low_sugp1=data_unmut.nsmallest(n, columns='SUGP1_ex', keep='all')['key']\n",
    "#SUGP1 expression 10% low\n",
    "high_sugp1=data_unmut.nlargest(n, columns='SUGP1_ex', keep='all')['key']\n",
    "sample_sugp1=list(low_sugp1)+list(high_sugp1)\n",
    "analysis1=covariate_table.filter(items=sample_sugp1, axis='index')\n",
    "\n",
    "#  create a file that specifies which samples go in each group- low vs. high \n",
    "groups_file=open(groups_file_path+\"groups_file_a1.txt\",'w')\n",
    "for sample in low_sugp1:\n",
    "    groups_file.writelines([sample, '\\tlow\\t',analysis1.loc[sample].to_string(header=False,index=False).replace('\\n','\\t'),'\\n'])\n",
    "for sample in high_sugp1:\n",
    "    groups_file.writelines([sample, '\\thigh\\t',analysis1.loc[sample].to_string(header=False,index=False).replace('\\n','\\t'),'\\n'])\n",
    "groups_file.close()"
   ]
  },
  {
   "cell_type": "code",
   "execution_count": 8,
   "metadata": {},
   "outputs": [],
   "source": [
    "# # analysis #2 : ucll+mcll - u SF3B1 - m SF3B1 # #\n",
    "\n",
    "# Unmutated SF3B1\n",
    "unmut_sample=cll_data[cll_data['SF3B1_mut']=='Unmutated SF3B1']['key']\n",
    "# mutated SF3B1\n",
    "mut_sample=cll_data[cll_data['SF3B1_mut']=='Mutated SF3B1']['key']\n",
    "\n",
    "samples=list(unmut_sample)+list(mut_sample)\n",
    "analysis2=covariate_table.filter(items=samples, axis='index')\n",
    "\n",
    "#  create a file that specifies which samples go in each group- unmut vs. mut \n",
    "groups_file=open(groups_file_path+\"groups_file_a2.txt\",'w')\n",
    "for sample in unmut_sample:\n",
    "    groups_file.writelines([sample, '\\tunmut\\t',analysis2.loc[sample].to_string(header=False,index=False).replace('\\n','\\t'),'\\n'])\n",
    "for sample in mut_sample:\n",
    "    groups_file.writelines([sample, '\\tmut\\t',analysis2.loc[sample].to_string(header=False,index=False).replace('\\n','\\t'),'\\n'])\n",
    "groups_file.close()"
   ]
  },
  {
   "cell_type": "code",
   "execution_count": 38,
   "metadata": {},
   "outputs": [],
   "source": [
    "# # analysis #7 : ucll+mcll - u SF3B1 - low\\high DHX15 # #\n",
    "\n",
    "# Unmutated SF3B1\n",
    "data_unmut=cll_data[cll_data['SF3B1_mut']=='Unmutated SF3B1']\n",
    "#DHX15 expression P low\n",
    "n=round(len(data_unmut)*P)\n",
    "low_dhx15=data_unmut.nsmallest(n, columns='DHX15', keep='all')['key']\n",
    "#DHX15 expression P high\n",
    "high_dhx15=data_unmut.nlargest(n, columns='DHX15', keep='all')['key']\n",
    "sample_dhx15=list(low_dhx15)+list(high_dhx15)\n",
    "analysis7=covariate_table.filter(items=sample_dhx15, axis='index')\n",
    "\n",
    "#  create a file that specifies which samples go in each group- low vs. high \n",
    "groups_file=open(groups_file_path+\"groups_file_a7.txt\",'w')\n",
    "for sample in low_dhx15:\n",
    "    groups_file.writelines([sample, '\\tlow\\t',analysis7.loc[sample].to_string(header=False,index=False).replace('\\n','\\t'),'\\n'])\n",
    "for sample in high_dhx15:\n",
    "    groups_file.writelines([sample, '\\thigh\\t',analysis7.loc[sample].to_string(header=False,index=False).replace('\\n','\\t'),'\\n'])\n",
    "groups_file.close()"
   ]
  },
  {
   "cell_type": "code",
   "execution_count": null,
   "metadata": {},
   "outputs": [],
   "source": [
    "# # analysis #3 : mcll - u SF3B1 - low\\high SUGP1 # #\n",
    "\n",
    "# m- cll\n",
    "data_mcll=cll_data[cll_data['ighv_mut']=='M-CLL']\n",
    "# Unmutated SF3B1\n",
    "data_unmut=data_mcll[cll_data['SF3B1_mut']=='Unmutated SF3B1']\n",
    "#SUGP1 expression 10% low\n",
    "n=round(len(data_unmut)*P)\n",
    "low_sugp1=data_unmut.nsmallest(n, columns='SUGP1_ex', keep='all')['key']\n",
    "#SUGP1 expression 10% low\n",
    "high_sugp1=data_unmut.nlargest(n, columns='SUGP1_ex', keep='all')['key']\n",
    "sample_sugp1=list(low_sugp1)+list(high_sugp1)\n",
    "analysis3=covariate_table.filter(items=sample_sugp1, axis='index')\n",
    "\n",
    "#  create a file that specifies which samples go in each group- low vs. high \n",
    "groups_file=open(groups_file_path+\"groups_file_a3.txt\",'w')\n",
    "for sample in low_sugp1:\n",
    "    groups_file.writelines([sample, '\\tlow\\t',analysis3.loc[sample].to_string(header=False,index=False).replace('\\n','\\t'),'\\n'])\n",
    "for sample in high_sugp1:\n",
    "    groups_file.writelines([sample, '\\thigh\\t',analysis3.loc[sample].to_string(header=False,index=False).replace('\\n','\\t'),'\\n'])\n",
    "groups_file.close()"
   ]
  },
  {
   "cell_type": "code",
   "execution_count": null,
   "metadata": {},
   "outputs": [],
   "source": [
    "# # analysis #4 : mcll - u SF3B1 - m SF3B1 # #\n",
    "\n",
    "# m- cll\n",
    "data_mcll=cll_data[cll_data['ighv_mut']=='M-CLL']\n",
    "# Unmutated SF3B1\n",
    "unmut_sample=data_mcll[cll_data['SF3B1_mut']=='Unmutated SF3B1']['key']\n",
    "# mutated SF3B1\n",
    "mut_sample=data_mcll[cll_data['SF3B1_mut']=='Mutated SF3B1']['key']\n",
    "\n",
    "samples=list(unmut_sample)+list(mut_sample)\n",
    "analysis4=covariate_table.filter(items=samples, axis='index')\n",
    "\n",
    "#  create a file that specifies which samples go in each group- unmut vs. mut \n",
    "groups_file=open(groups_file_path+\"groups_file_a4.txt\",'w')\n",
    "for sample in unmut_sample:\n",
    "    groups_file.writelines([sample, '\\tunmut\\t',analysis4.loc[sample].to_string(header=False,index=False).replace('\\n','\\t'),'\\n'])\n",
    "for sample in mut_sample:\n",
    "    groups_file.writelines([sample, '\\tmut\\t',analysis4.loc[sample].to_string(header=False,index=False).replace('\\n','\\t'),'\\n'])\n",
    "groups_file.close()"
   ]
  },
  {
   "cell_type": "code",
   "execution_count": 42,
   "metadata": {},
   "outputs": [
    {
     "name": "stderr",
     "output_type": "stream",
     "text": [
      "/tmp/ipykernel_187054/2223929579.py:6: UserWarning: Boolean Series key will be reindexed to match DataFrame index.\n",
      "  data_unmut=data_mcll[cll_data['SF3B1_mut']=='Unmutated SF3B1']\n"
     ]
    }
   ],
   "source": [
    "# # analysis #8 : mcll - u SF3B1 - low\\high DHX15 # #\n",
    "\n",
    "# m- cll\n",
    "data_mcll=cll_data[cll_data['ighv_mut']=='M-CLL']\n",
    "# Unmutated SF3B1\n",
    "data_unmut=data_mcll[cll_data['SF3B1_mut']=='Unmutated SF3B1']\n",
    "#DHX15 expression P low\n",
    "n=round(len(data_unmut)*P)\n",
    "low_dhx15=data_unmut.nsmallest(n, columns='DHX15', keep='all')['key']\n",
    "#DHX15 expression P high\n",
    "high_dhx15=data_unmut.nlargest(n, columns='DHX15', keep='all')['key']\n",
    "sample_dhx15=list(low_dhx15)+list(high_dhx15)\n",
    "analysis8=covariate_table.filter(items=sample_dhx15, axis='index')\n",
    "\n",
    "#  create a file that specifies which samples go in each group- low vs. high \n",
    "groups_file=open(groups_file_path+\"groups_file_a8.txt\",'w')\n",
    "for sample in low_dhx15:\n",
    "    groups_file.writelines([sample, '\\tlow\\t',analysis8.loc[sample].to_string(header=False,index=False).replace('\\n','\\t'),'\\n'])\n",
    "for sample in high_dhx15:\n",
    "    groups_file.writelines([sample, '\\thigh\\t',analysis8.loc[sample].to_string(header=False,index=False).replace('\\n','\\t'),'\\n'])\n",
    "groups_file.close()"
   ]
  },
  {
   "cell_type": "code",
   "execution_count": null,
   "metadata": {},
   "outputs": [],
   "source": [
    "# # analysis #5 : ucll - u SF3B1 - low\\high SUGP1 # #\n",
    "\n",
    "# m- cll\n",
    "data_ucll=cll_data[cll_data['ighv_mut']=='U-CLL']\n",
    "# Unmutated SF3B1\n",
    "data_unmut=data_ucll[cll_data['SF3B1_mut']=='Unmutated SF3B1']\n",
    "#SUGP1 expression 10% low\n",
    "n=round(len(data_unmut)*P)\n",
    "low_sugp1=data_unmut.nsmallest(n, columns='SUGP1_ex', keep='all')['key']\n",
    "#SUGP1 expression 10% high\n",
    "high_sugp1=data_unmut.nlargest(n, columns='SUGP1_ex', keep='all')['key']\n",
    "sample_sugp1=list(low_sugp1)+list(high_sugp1)\n",
    "analysis5=covariate_table.filter(items=sample_sugp1, axis='index')\n",
    "\n",
    "#  create a file that specifies which samples go in each group- low vs. high \n",
    "groups_file=open(groups_file_path+\"groups_file_a5.txt\",'w')\n",
    "for sample in low_sugp1:\n",
    "    groups_file.writelines([sample, '\\tlow\\t',analysis5.loc[sample].to_string(header=False,index=False).replace('\\n','\\t'),'\\n'])\n",
    "for sample in high_sugp1:\n",
    "    groups_file.writelines([sample, '\\thigh\\t',analysis5.loc[sample].to_string(header=False,index=False).replace('\\n','\\t'),'\\n'])\n",
    "groups_file.close()"
   ]
  },
  {
   "cell_type": "code",
   "execution_count": null,
   "metadata": {},
   "outputs": [],
   "source": [
    "# # analysis #6 : ucll - u SF3B1 - m SF3B1 # #\n",
    "\n",
    "# u- cll\n",
    "data_ucll=cll_data[cll_data['ighv_mut']=='U-CLL']\n",
    "# Unmutated SF3B1\n",
    "unmut_sample=data_ucll[cll_data['SF3B1_mut']=='Unmutated SF3B1']['key']\n",
    "# mutated SF3B1\n",
    "mut_sample=data_ucll[cll_data['SF3B1_mut']=='Mutated SF3B1']['key']\n",
    "\n",
    "samples=list(unmut_sample)+list(mut_sample)\n",
    "analysis6=covariate_table.filter(items=samples, axis='index')\n",
    "\n",
    "#  create a file that specifies which samples go in each group- unmut vs. mut \n",
    "groups_file=open(groups_file_path+\"groups_file_a6.txt\",'w')\n",
    "for sample in unmut_sample:\n",
    "    groups_file.writelines([sample, '\\tunmut\\t',analysis6.loc[sample].to_string(header=False,index=False).replace('\\n','\\t'),'\\n'])\n",
    "for sample in mut_sample:\n",
    "    groups_file.writelines([sample, '\\tmut\\t',analysis6.loc[sample].to_string(header=False,index=False).replace('\\n','\\t'),'\\n'])\n",
    "groups_file.close()"
   ]
  },
  {
   "cell_type": "code",
   "execution_count": 41,
   "metadata": {},
   "outputs": [
    {
     "name": "stderr",
     "output_type": "stream",
     "text": [
      "/tmp/ipykernel_187054/3063173552.py:6: UserWarning: Boolean Series key will be reindexed to match DataFrame index.\n",
      "  data_unmut=data_mcll[cll_data['SF3B1_mut']=='Unmutated SF3B1']\n"
     ]
    }
   ],
   "source": [
    "# # analysis #9 : ucll - u SF3B1 - low\\high DHX15 # #\n",
    "\n",
    "# u- cll\n",
    "data_mcll=cll_data[cll_data['ighv_mut']=='U-CLL']\n",
    "# Unmutated SF3B1\n",
    "data_unmut=data_mcll[cll_data['SF3B1_mut']=='Unmutated SF3B1']\n",
    "#DHX15 expression P low\n",
    "n=round(len(data_unmut)*P)\n",
    "low_dhx15=data_unmut.nsmallest(n, columns='DHX15', keep='all')['key']\n",
    "#DHX15 expression P high\n",
    "high_dhx15=data_unmut.nlargest(n, columns='DHX15', keep='all')['key']\n",
    "sample_dhx15=list(low_dhx15)+list(high_dhx15)\n",
    "analysis9=covariate_table.filter(items=sample_dhx15, axis='index')\n",
    "\n",
    "#  create a file that specifies which samples go in each group- low vs. high \n",
    "groups_file=open(groups_file_path+\"groups_file_a9.txt\",'w')\n",
    "for sample in low_dhx15:\n",
    "    groups_file.writelines([sample, '\\tlow\\t',analysis9.loc[sample].to_string(header=False,index=False).replace('\\n','\\t'),'\\n'])\n",
    "for sample in high_dhx15:\n",
    "    groups_file.writelines([sample, '\\thigh\\t',analysis9.loc[sample].to_string(header=False,index=False).replace('\\n','\\t'),'\\n'])\n",
    "groups_file.close()"
   ]
  },
  {
   "cell_type": "code",
   "execution_count": 26,
   "metadata": {},
   "outputs": [],
   "source": [
    "#   #   #   SHUFFLE    #   #   #\n",
    "import random\n",
    "input_file='/home/ls/rachelcw/projects/LEAFCUTTER/DS/DS.five_percent/groups_file.analysis.20221226/groups_file_a6.txt'\n",
    "with open(input_file,'r') as source:\n",
    "    data = [ (random.random(), line) for line in source ]\n",
    "data.sort()\n",
    "output_file='/home/ls/rachelcw/projects/LEAFCUTTER/DS/DS.five_percent/shuffle_groups_file/groups_file_s6.txt'\n",
    "with open(output_file,'w') as target:\n",
    "    for _, line in data:\n",
    "        target.write( line )"
   ]
  },
  {
   "cell_type": "code",
   "execution_count": 21,
   "metadata": {},
   "outputs": [],
   "source": [
    "#   #   RUN LEAFCUTTER DS   #   #\n",
    "# docker run -v /home/ls/rachelcw/projects/LEAFCUTTER/:/data --rm garrettjenkinson/ubuntu18leafcutter:v0.2.9.1 Rscript /leafcutter/scripts/leafcutter_ds.R /data/lc_20221211/lc_20221211_perind_numers.counts.gz /data/DS/DS.five_percent/groups_file.analysis.20221226/groups_file_a9.txt -o /data/DS/DS.five_percent/ds.a9.20221228 -p 50\n",
    "# docker run -v /home/ls/rachelcw/projects/LEAFCUTTER/:/data --rm garrettjenkinson/ubuntu18leafcutter:v0.2.9.1 Rscript /leafcutter/scripts/leafcutter_ds.R /data/lc_20221211/lc_20221211_perind_numers.counts.gz /data/DS/DS.five_percent/shuffle_groups_file/groups_file_s6.txt -o /data/DS/DS.five_percent/ds.s6.20221227 -p 6\n"
   ]
  },
  {
   "cell_type": "code",
   "execution_count": null,
   "metadata": {},
   "outputs": [],
   "source": [
    "#   #   DS result anf filtering    #   #\n",
    "FDR = 0.1\n",
    "\n",
    "for i in ['9']:\n",
    "    input_path='/home/ls/rachelcw/projects/LEAFCUTTER/DS/DS.five_percent/ds.a'+i+'.20221228'\n",
    "    cluster_sig= pd.read_table(input_path+'_cluster_significance.txt',sep='\\t')\n",
    "    #filter out all clusters that they arnt sugnificant <=0.05\n",
    "\n",
    "    cluster_sig=cluster_sig[cluster_sig['p.adjust'] <= FDR]\n",
    "    clusters=list(cluster_sig['cluster'].str.split(':',expand=True)[0]+'.*'+cluster_sig['cluster'].str.split(':',expand=True)[1])\n",
    "\n",
    "    effect_sizes=pd.read_table(input_path+'_effect_sizes.txt',sep='\\t')\n",
    "\n",
    "    #   #   #   #   #   #   #   #   #   #   #   #  \n",
    "\n",
    "    filtered_intron=[]\n",
    "    intron=list(effect_sizes['intron'])\n",
    "    for x in clusters:\n",
    "        for y in intron:\n",
    "            r = re.compile(x)\n",
    "            z=r.search(y)\n",
    "            if z != None:\n",
    "                filtered_intron.append(z.string)\n",
    "\n",
    "\n",
    "    #   #   #   #   #   #   #   #   #   #   #   #              \n",
    "\n",
    "    effect_sizes.set_index('intron', inplace=True)\n",
    "    effect_sizes=effect_sizes.filter(items=filtered_intron,axis='index')\n",
    "\n",
    "    #   #   #   #   #   #   #   #   #   #   #   #   \n",
    "    output_path='/home/ls/rachelcw/projects/LEAFCUTTER/DS/DS.five_percent/fdr0.1/filtered0.1.a' + i + '.20221228'\n",
    "    print(output_path)\n",
    "\n",
    "    cluster_sig.to_csv(output_path+'_cluster_significance.txt', sep=' ',index=False)\n",
    "    effect_sizes.to_csv(output_path+'_effect_sizes.txt', sep=' ')\n",
    "\n"
   ]
  },
  {
   "cell_type": "code",
   "execution_count": 16,
   "metadata": {},
   "outputs": [],
   "source": [
    "a1=pd.read_csv(\"/home/ls/rachelcw/projects/LEAFCUTTER/DS/DS.five_percent/fdr0.1/filtered0.1.a1.20221227_cluster_significance.txt\", sep=' ')\n",
    "a2=pd.read_csv(\"/home/ls/rachelcw/projects/LEAFCUTTER/DS/DS.five_percent/fdr0.1/filtered0.1.a2.20221227_cluster_significance.txt\", sep=' ')\n",
    "#a3=pd.read_csv(\"/home/ls/rachelcw/projects/LEAFCUTTER/DS/DS.five_percent/ds.a3.20221226_cluster_significance.txt\", sep='\\t')\n",
    "a4=pd.read_csv(\"/home/ls/rachelcw/projects/LEAFCUTTER/DS/DS.five_percent/fdr0.1/filtered0.1.a4.20221227_cluster_significance.txt\", sep=' ')\n",
    "a7=pd.read_csv(\"/home/ls/rachelcw/projects/LEAFCUTTER/DS/DS.five_percent/fdr0.1/filtered0.1.a7.20221228_cluster_significance.txt\", sep=' ')\n",
    "a6=pd.read_csv(\"/home/ls/rachelcw/projects/LEAFCUTTER/DS/DS.five_percent/fdr0.1/filtered0.1.a6.20221227_cluster_significance.txt\", sep=' ')\n"
   ]
  },
  {
   "cell_type": "code",
   "execution_count": 59,
   "metadata": {},
   "outputs": [
    {
     "data": {
      "text/plain": [
       "[Text(0, 0, 'umcll-lh'),\n",
       " Text(1, 0, 'umcll-mu'),\n",
       " Text(2, 0, 'umcll-DHX15'),\n",
       " Text(3, 0, 'mcll-lh'),\n",
       " Text(4, 0, 'mcll-mu'),\n",
       " Text(5, 0, 'mcll-DHX15'),\n",
       " Text(6, 0, 'ucll-lh'),\n",
       " Text(7, 0, 'ucll-mu'),\n",
       " Text(8, 0, 'ucll-DHX15')]"
      ]
     },
     "execution_count": 59,
     "metadata": {},
     "output_type": "execute_result"
    },
    {
     "data": {
      "image/png": "[encoded data removed]",
      "text/plain": [
       "<Figure size 640x480 with 1 Axes>"
      ]
     },
     "metadata": {},
     "output_type": "display_data"
    }
   ],
   "source": [
    "plot_pa=pd.DataFrame({'analysis':['umcll-lh','umcll-mu','umcll-DHX15','mcll-lh','mcll-mu','mcll-DHX15','ucll-lh','ucll-mu','ucll-DHX15'],'p.adjust':[len(a1['p.adjust']),len(a2['p.adjust']),len(a7['p.adjust']),0,len(a4['p.adjust']),0,0,len(a6['p.adjust']),0]},)\n",
    "\n",
    "ax=sns.barplot(plot_pa,x='analysis',y='p.adjust')\n",
    "ax.bar_label(ax.containers[0])\n",
    "ax.set(title=f'FDR={FDR}, HIGH\\LOW={P}')\n",
    "ax.set_xticklabels(ax.get_xticklabels(),fontsize=6.5)\n"
   ]
  },
  {
   "cell_type": "code",
   "execution_count": 3,
   "metadata": {},
   "outputs": [],
   "source": [
    "# sugp1_lh=pd.merge(a3,a5, how='inner', on='cluster')\n",
    "# #sugp1_lh=pd.merge(sugp1_lh,a5, how='inner', on='cluster')\n",
    "# sugp1_lh.set_index('cluster',inplace=True)\n",
    "sf3b1_mu=pd.merge(a2,a4,how='inner',on='cluster')\n",
    "sf3b1_mu=pd.merge(sf3b1_mu,a6,how='inner',on='cluster')\n",
    "sf3b1_mu.set_index('cluster',inplace=True)\n"
   ]
  },
  {
   "cell_type": "code",
   "execution_count": 21,
   "metadata": {},
   "outputs": [],
   "source": [
    "sf3b1_mu.to_csv(\"/home/ls/rachelcw/projects/LEAFCUTTER/DS/sf3b1_mu_cs.csv\")"
   ]
  },
  {
   "cell_type": "code",
   "execution_count": 16,
   "metadata": {},
   "outputs": [],
   "source": [
    "b2=pd.read_csv(\"/home/ls/rachelcw/projects/LEAFCUTTER/DS/ds.a2.20221221_effect_sizes.txt\",sep='\\t')\n",
    "b4=pd.read_csv(\"/home/ls/rachelcw/projects/LEAFCUTTER/DS/ds.a4.20221221_effect_sizes.txt\",sep='\\t')\n",
    "b6=pd.read_csv(\"/home/ls/rachelcw/projects/LEAFCUTTER/DS/ds.a6.20221221_effect_sizes.txt\",sep='\\t')"
   ]
  },
  {
   "cell_type": "code",
   "execution_count": 17,
   "metadata": {},
   "outputs": [],
   "source": [
    "sf3b1_mu=sf3b1_mu.reset_index()\n",
    "clusters=list(sf3b1_mu['cluster'].str.split(':',expand=True)[0]+'.*'+sf3b1_mu['cluster'].str.split(':',expand=True)[1])\n",
    "\n"
   ]
  },
  {
   "cell_type": "code",
   "execution_count": 19,
   "metadata": {},
   "outputs": [],
   "source": [
    "filtered_intron=[]\n",
    "intron=list(b6['intron'])\n",
    "for x in clusters:\n",
    "    for y in intron:\n",
    "        r = re.compile(x)\n",
    "        i=r.search(y)\n",
    "        if i != None:\n",
    "            filtered_intron.append(i.string)\n",
    "\n",
    "b6.set_index('intron', inplace=True)\n",
    "b6=b6.filter(items=filtered_intron,axis='index')"
   ]
  },
  {
   "cell_type": "code",
   "execution_count": 20,
   "metadata": {},
   "outputs": [],
   "source": [
    "sf3b1_mu_es=pd.merge(b2,b4,how='inner',on='intron')\n",
    "sf3b1_mu_es=pd.merge(sf3b1_mu_es,b6,how='inner',on='intron')\n",
    "#sf3b1_mu.set_index('cluster',inplace=True)"
   ]
  },
  {
   "cell_type": "code",
   "execution_count": null,
   "metadata": {},
   "outputs": [],
   "source": [
    "sf3b1_mu_es.to_csv(\"/home/ls/rachelcw/projects/LEAFCUTTER/DS/sf3b1_mu_es.csv\")"
   ]
  },
  {
   "cell_type": "code",
   "execution_count": 13,
   "metadata": {},
   "outputs": [],
   "source": [
    "# effect_sizes['intron'].str.split(':',expand=True)\n",
    "# cluster=effect_sizes['intron'].str.split(':',expand=True)[3]\n",
    "# chr=effect_sizes['intron'].str.split(':',expand=True)[0]\n",
    "# effect_sizes['cluster']=cluster\n",
    "# effect_sizes['chr']=chr\n",
    "\n",
    "# es=[]\n",
    "# for value in effect_sizes['deltapsi']:\n",
    "#     if abs(value)<=0.3:\n",
    "#         es.append('small')\n",
    "#     elif abs(value)<=0.5:\n",
    "#         es.append('medium')\n",
    "#     else:\n",
    "#         es.append('large')\n",
    "\n",
    "# effect_sizes['es']=es"
   ]
  },
  {
   "cell_type": "code",
   "execution_count": null,
   "metadata": {},
   "outputs": [],
   "source": [
    "#/home/ls/rachelcw/projects/LEAFCUTTER/leafcutter/scripts/ds_plots.R -e /home/ls/rachelcw/projects/LEAFCUTTER/leafcutter/data/gencode19_exons.txt.gz /home/ls/rachelcw/projects/LEAFCUTTER/lc_20221211/lc_20221211_perind_numers.counts.gz /home/ls/rachelcw/projects/LEAFCUTTER/groups_file_peer.txt /home/ls/rachelcw/projects/LEAFCUTTER/DS/lc_ds_20221213_cluster_significance.txt -f 0.05"
   ]
  }
 ],
 "metadata": {
  "kernelspec": {
   "display_name": "Python 3.10.6 ('seaborn')",
   "language": "python",
   "name": "python3"
  },
  "language_info": {
   "codemirror_mode": {
    "name": "ipython",
    "version": 3
   },
   "file_extension": ".py",
   "mimetype": "text/x-python",
   "name": "python",
   "nbconvert_exporter": "python",
   "pygments_lexer": "ipython3",
   "version": "3.10.6 (main, Oct 24 2022, 16:07:47) [GCC 11.2.0]"
  },
  "orig_nbformat": 4,
  "vscode": {
   "interpreter": {
    "hash": "ffaf9a84c5671947886505d4f91050dbb3ba66b7127314a33a9d27ce6dea3408"
   }
  }
 },
 "nbformat": 4,
 "nbformat_minor": 2
}
